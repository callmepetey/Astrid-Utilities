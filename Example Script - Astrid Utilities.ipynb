{
 "cells": [
  {
   "cell_type": "markdown",
   "metadata": {},
   "source": [
    "Start by importing the utilities:"
   ]
  },
  {
   "cell_type": "code",
   "execution_count": 1,
   "metadata": {},
   "outputs": [
    {
     "name": "stdout",
     "output_type": "stream",
     "text": [
      "importing Jupyter notebook from astrid_python.ipynb\n"
     ]
    }
   ],
   "source": [
    "import import_ipynb\n",
    "import astrid_python as ast\n",
    "import numpy as np\n",
    "import matplotlib\n",
    "import matplotlib.pyplot as plt "
   ]
  },
  {
   "cell_type": "markdown",
   "metadata": {},
   "source": [
    "Define the snapshot number."
   ]
  },
  {
   "cell_type": "code",
   "execution_count": 2,
   "metadata": {},
   "outputs": [],
   "source": [
    "snap = 214"
   ]
  },
  {
   "cell_type": "markdown",
   "metadata": {},
   "source": [
    "Load the snapshot data and open the snapshot header."
   ]
  },
  {
   "cell_type": "code",
   "execution_count": 3,
   "metadata": {},
   "outputs": [
    {
     "name": "stdout",
     "output_type": "stream",
     "text": [
      "----------PIG File Info------------\n",
      "Redshift = 3.00\n",
      "Lbox = 250000 ckpc/h\n",
      "NfofGroups = 193500739\n",
      "------Cosmological Parameters-----\n",
      "h = 0.6774\n",
      "Omega_m = 0.3089\n",
      "Omega_b = 0.0486\n",
      "Omega_l = 0.6911\n"
     ]
    }
   ],
   "source": [
    "pig = ast.getSnapshot(snap)\n",
    "\n",
    "scale_fac, redshift, Lbox, hh, om0, omb, oml, Nfof, sigma8 = ast.getAttributes(pig)"
   ]
  },
  {
   "cell_type": "markdown",
   "metadata": {},
   "source": [
    "Return the properties available for a given snapshot block."
   ]
  },
  {
   "cell_type": "code",
   "execution_count": 4,
   "metadata": {},
   "outputs": [
    {
     "data": {
      "text/plain": [
       "['GroupID',\n",
       " 'ID',\n",
       " 'Mass',\n",
       " 'Metallicity',\n",
       " 'Metals',\n",
       " 'Position',\n",
       " 'StarFormationTime',\n",
       " 'TotalMassReturned',\n",
       " 'Velocity']"
      ]
     },
     "execution_count": 4,
     "metadata": {},
     "output_type": "execute_result"
    }
   ],
   "source": [
    "ast.getProperties(pig, '4')"
   ]
  },
  {
   "cell_type": "markdown",
   "metadata": {},
   "source": [
    "Load values of a specificed property for a list of group/subgroup indices."
   ]
  },
  {
   "cell_type": "code",
   "execution_count": 5,
   "metadata": {},
   "outputs": [
    {
     "data": {
      "text/plain": [
       "{1: array([[ 33942.906, 228673.34 , 122080.3  ],\n",
       "        [ 34625.027, 229234.16 , 123013.   ],\n",
       "        [ 33917.285, 228794.56 , 121890.055],\n",
       "        ...,\n",
       "        [ 34891.85 , 230893.45 , 122654.02 ],\n",
       "        [ 34378.15 , 229063.7  , 122546.45 ],\n",
       "        [ 34645.066, 229689.44 , 123482.11 ]], dtype=float32),\n",
       " 2: array([[ 32508.84 , 225659.16 , 121782.33 ],\n",
       "        [ 32395.598, 225432.52 , 121756.7  ],\n",
       "        [ 33034.22 , 226075.8  , 121783.086],\n",
       "        ...,\n",
       "        [ 32468.414, 226161.55 , 121988.984],\n",
       "        [ 32790.46 , 225359.88 , 122594.18 ],\n",
       "        [ 33252.195, 227158.16 , 121689.016]], dtype=float32),\n",
       " 5: array([[184622.3  , 192414.   ,  67915.67 ],\n",
       "        [184508.11 , 191626.72 ,  68346.445],\n",
       "        [183946.75 , 193092.47 ,  67388.805],\n",
       "        ...,\n",
       "        [184336.14 , 192631.84 ,  68073.29 ],\n",
       "        [184789.72 , 192178.92 ,  68270.35 ],\n",
       "        [184924.67 , 192260.72 ,  67612.7  ]], dtype=float32),\n",
       " 10: array([[174174.73, 153527.28, 162020.12],\n",
       "        [174486.78, 153592.84, 162499.03],\n",
       "        [174113.6 , 153648.97, 160813.7 ],\n",
       "        ...,\n",
       "        [174018.84, 153224.31, 161529.77],\n",
       "        [174062.78, 153832.44, 161709.81],\n",
       "        [174077.48, 153951.97, 160370.72]], dtype=float32),\n",
       " 28: array([[45082.336, 95519.87 , 91526.375],\n",
       "        [44493.42 , 95090.56 , 92357.14 ],\n",
       "        [45096.684, 95454.086, 91523.37 ],\n",
       "        ...,\n",
       "        [44516.656, 94893.7  , 92737.56 ],\n",
       "        [44756.363, 95429.305, 91902.07 ],\n",
       "        [44813.516, 95692.336, 91338.336]], dtype=float32)}"
      ]
     },
     "execution_count": 5,
     "metadata": {},
     "output_type": "execute_result"
    }
   ],
   "source": [
    "ast.getValues(snap, [1, 2, 5, 10, 28], 'SubhaloCM', subgroup=True)"
   ]
  },
  {
   "cell_type": "markdown",
   "metadata": {},
   "source": [
    "Load values of a specified particle type and property for a given group/subgroup index."
   ]
  },
  {
   "cell_type": "code",
   "execution_count": 6,
   "metadata": {},
   "outputs": [],
   "source": [
    "coordinates = ast.getParticleProperties(snap, 1, '5', 'Coordinates')"
   ]
  },
  {
   "cell_type": "markdown",
   "metadata": {},
   "source": [
    "We plot the x,y-coordinates for the black holes located in group 1."
   ]
  },
  {
   "cell_type": "code",
   "execution_count": 7,
   "metadata": {},
   "outputs": [
    {
     "data": {
      "image/png": "[encoded data removed]",
      "text/plain": [
       "<Figure size 432x288 with 1 Axes>"
      ]
     },
     "metadata": {
      "needs_background": "light"
     },
     "output_type": "display_data"
    }
   ],
   "source": [
    "plt.scatter(coordinates[:,0], coordinates[:,1], label='Black holes')\n",
    "plt.xlabel('x [ckpc]')\n",
    "plt.ylabel('y [ckpc]')\n",
    "plt.title('Group 1 Blackhole Coordinates (x, y)')\n",
    "plt.legend()\n",
    "plt.show()"
   ]
  },
  {
   "cell_type": "markdown",
   "metadata": {},
   "source": [
    "Load the valid group/subgroup indices which satisfy conditions for a provided property:"
   ]
  },
  {
   "cell_type": "code",
   "execution_count": 8,
   "metadata": {},
   "outputs": [],
   "source": [
    "validIndices = ast.getValidIndices(pig, 'Mass', 2000.0, 3000.0)"
   ]
  },
  {
   "cell_type": "code",
   "execution_count": 9,
   "metadata": {},
   "outputs": [
    {
     "data": {
      "text/plain": [
       "array([ 5,  6,  7,  8,  9, 10, 11, 12, 13, 14, 15, 16, 18, 20, 22])"
      ]
     },
     "execution_count": 9,
     "metadata": {},
     "output_type": "execute_result"
    }
   ],
   "source": [
    "validIndices"
   ]
  },
  {
   "cell_type": "markdown",
   "metadata": {},
   "source": [
    "Find the indices associated with a given black hole."
   ]
  },
  {
   "cell_type": "code",
   "execution_count": 10,
   "metadata": {},
   "outputs": [],
   "source": [
    "bhid = 258052176737"
   ]
  },
  {
   "cell_type": "code",
   "execution_count": 11,
   "metadata": {},
   "outputs": [
    {
     "name": "stdout",
     "output_type": "stream",
     "text": [
      "BH ID: 258052176737\n",
      "BH Index: 41073\n",
      "BH Group Index: 172\n",
      "BH Subhalo Index: 4\n"
     ]
    }
   ],
   "source": [
    "bhidx, groupidx, subhidx = ast.getBHIndices(snap, bhid)\n",
    "\n",
    "print('BH ID:', bhid)\n",
    "print('BH Index:', bhidx)\n",
    "print('BH Group Index:', groupidx)\n",
    "print('BH Subhalo Index:', subhidx)"
   ]
  },
  {
   "cell_type": "markdown",
   "metadata": {},
   "source": [
    "Fetch the entire history of a given black hole."
   ]
  },
  {
   "cell_type": "code",
   "execution_count": 12,
   "metadata": {},
   "outputs": [],
   "source": [
    "bh = ast.getBHHistory(bhid)"
   ]
  },
  {
   "cell_type": "code",
   "execution_count": 13,
   "metadata": {},
   "outputs": [
    {
     "data": {
      "text/plain": [
       "array([(258052176737, 6.60613304e-06, 0., [137843.35214572, 162095.42088167, 147406.92849157], [   3.42815963,   -8.65595116,    4.13293437], 0.00000000e+00, [ 6.94032515,  2.19190949, -2.40022548], 3.94581155e-06, 2.03655432e-01, 0.00000000e+00, 0, -1, 0, 11.69860003),\n",
       "       (258052176737, 6.60813704e-06, 0., [137843.65321481, 162094.69468076, 147407.26952965], [   3.77545193,   -8.71266373,    4.02805844], 6.80468590e-06, [ 4.50228449,  1.96978156, -0.70668078], 4.35348958e-06, 3.30184926e+04, 3.86160335e-06, 0, -1, 0, 11.68203381),\n",
       "       (258052176737, 6.61058375e-06, 0., [137843.98171381, 162093.96640241, 147407.60136834], [   4.1233835 ,   -8.75980922,    3.93261728], 6.59374025e-06, [ 3.98539114,  1.9701095 , -0.48551069], 4.50744251e-06, 3.15943092e+04, 4.70543814e-06, 0, -1, 0, 11.6654892 ),\n",
       "       ...,\n",
       "       (258052176737, 1.24850134e-03, 0., [139551.91671901, 160081.05775422, 148097.81364365], [ 201.96736991, -223.3211709 ,   25.35138677], 1.11542232e-06, [-0.13075777,  0.10257514, -0.01384577], 0.00000000e+00, 8.23023499e+08, 4.65492485e-08, 0, -1, 0,  1.29921026),\n",
       "       (258052176737, 1.24850139e-03, 0., [139552.78830473, 160080.09330021, 148097.92051018], [ 202.50825937, -224.08574648,   24.82986475], 1.16068725e-06, [-0.13206276,  0.10734613, -0.01135559], 0.00000000e+00, 7.37052523e+08, 5.41162518e-08, 0, -1, 0,  1.2988155 ),\n",
       "       (258052176737, 1.24850144e-03, 0., [139553.6597797 , 160079.12896843, 148098.02736315], [ 204.63042942, -227.17316262,   22.97189851], 1.20912087e-06, [-0.13370921,  0.10836775, -0.00857225], 0.00000000e+00, 6.74027637e+08, 6.08626252e-08, 0, -1, 0,  1.2984208 )],\n",
       "      dtype=[('BHID', '<i8'), ('BHMass', '<f8'), ('acBHMass', '<f8'), ('BHpos', '<f8', (3,)), ('BHvel', '<f8', (3,)), ('Density', '<f8'), ('DFAccel', '<f8', (3,)), ('Fdbk', '<f8'), ('Entropy', '<f8'), ('Mdot', '<f8'), ('Swallowed', '<i4'), ('SwallowID', '<i8'), ('encounter', '<i4'), ('z', '<f8')])"
      ]
     },
     "execution_count": 13,
     "metadata": {},
     "output_type": "execute_result"
    }
   ],
   "source": [
    "bh"
   ]
  },
  {
   "cell_type": "markdown",
   "metadata": {},
   "source": [
    "Plot the trajectory of the black hole for a period of time (user defined below) during its history, as well as its mass evolution."
   ]
  },
  {
   "cell_type": "code",
   "execution_count": 14,
   "metadata": {},
   "outputs": [],
   "source": [
    "mask = bh['z'] <= 3\n",
    "mask &= bh['z'] >= 2\n",
    "bh = bh[mask]"
   ]
  },
  {
   "cell_type": "code",
   "execution_count": 15,
   "metadata": {},
   "outputs": [
    {
     "data": {
      "image/png": "[encoded data removed]",
      "text/plain": [
       "<Figure size 432x288 with 1 Axes>"
      ]
     },
     "metadata": {
      "needs_background": "light"
     },
     "output_type": "display_data"
    }
   ],
   "source": [
    "plt.plot(bh['BHpos'][:,0], bh['BHpos'][:,1], label=bhid)\n",
    "plt.xlabel('x [ckpc]')\n",
    "plt.ylabel('y [ckpc]')\n",
    "plt.title('Black Hole Trajectory')\n",
    "plt.legend()\n",
    "plt.show()"
   ]
  },
  {
   "cell_type": "code",
   "execution_count": 16,
   "metadata": {},
   "outputs": [
    {
     "data": {
      "image/png": "[encoded data removed]",
      "text/plain": [
       "<Figure size 432x288 with 1 Axes>"
      ]
     },
     "metadata": {
      "needs_background": "light"
     },
     "output_type": "display_data"
    }
   ],
   "source": [
    "plt.plot(bh['z'], bh['BHMass']*1e10/hh)\n",
    "plt.xlabel('z')\n",
    "plt.ylabel(r'$M_{\\rm BH} [M_\\odot]$')\n",
    "plt.title('Black Hole Mass')\n",
    "plt.show()"
   ]
  },
  {
   "cell_type": "markdown",
   "metadata": {},
   "source": [
    "Load the subhalo properties for a given black hole:"
   ]
  },
  {
   "cell_type": "code",
   "execution_count": 17,
   "metadata": {},
   "outputs": [],
   "source": [
    "gobt, sobt, first_sub = ast.getSubfindOBT(groupidx, snap)"
   ]
  },
  {
   "cell_type": "code",
   "execution_count": 18,
   "metadata": {},
   "outputs": [],
   "source": [
    "bidx, gidx, sidx, sbegin, send = ast.placeBH(groupidx, bhid, snap, gobt, sobt, first_sub)"
   ]
  },
  {
   "cell_type": "code",
   "execution_count": 19,
   "metadata": {},
   "outputs": [],
   "source": [
    "subhalo_summary = ast.getSubhaloSummary(groupidx, snap, gidx, sidx, sbegin, send, feature_list=[],main_sub=False)"
   ]
  },
  {
   "cell_type": "code",
   "execution_count": 20,
   "metadata": {},
   "outputs": [
    {
     "data": {
      "text/plain": [
       "{'SubhaloCM': array([139304.3 , 160621.75, 147652.19], dtype=float32),\n",
       " 'SubhaloGroupNr': 0,\n",
       " 'SubhaloHalfmassRad': 4.7852955,\n",
       " 'SubhaloHalfmassRadType': array([2.31012   , 5.3919897 , 0.        , 0.        , 0.9928251 ,\n",
       "        0.17551477], dtype=float32),\n",
       " 'SubhaloIDMostbound': 216173039833166529,\n",
       " 'SubhaloLen': 78835,\n",
       " 'SubhaloLenType': array([10323, 14537,     0,     0, 53972,     3], dtype=int32),\n",
       " 'SubhaloMass': 12.007053,\n",
       " 'SubhaloMassType': array([1.1576806e+00, 9.8091803e+00, 0.0000000e+00, 0.0000000e+00,\n",
       "        1.0371922e+00, 3.0000000e-03], dtype=float32),\n",
       " 'SubhaloOffsetType': array([683545, 831544,      0,      0, 917637,     46]),\n",
       " 'SubhaloParentRank': 0,\n",
       " 'SubhaloPos': array([139303.77, 160621.22, 147653.44], dtype=float32),\n",
       " 'SubhaloRankInGr': 3,\n",
       " 'SubhaloSpin': array([59.695652 ,  3.9784896, -4.1124945], dtype=float32),\n",
       " 'SubhaloVel': array([ 490.3258 , -557.114  , -196.52382], dtype=float32),\n",
       " 'SubhaloVelDisp': 250.43628,\n",
       " 'SubhaloVmax': 252.33792,\n",
       " 'SubhaloVmaxRad': 1.6244696}"
      ]
     },
     "execution_count": 20,
     "metadata": {},
     "output_type": "execute_result"
    }
   ],
   "source": [
    "subhalo_summary"
   ]
  },
  {
   "cell_type": "markdown",
   "metadata": {},
   "source": [
    "Load the subhalo properties for a given black hole from one redshift to another:\n",
    "\n",
    "<br>\n",
    "\n",
    "*Note: subfind not supported for many snapshots currently, example below provided for only one snapshot.*"
   ]
  },
  {
   "cell_type": "code",
   "execution_count": 21,
   "metadata": {},
   "outputs": [
    {
     "name": "stdout",
     "output_type": "stream",
     "text": [
      "3.0\n"
     ]
    },
    {
     "data": {
      "text/plain": [
       "{3.0: {'SubhaloCM': array([139304.3 , 160621.75, 147652.19], dtype=float32),\n",
       "  'SubhaloGroupNr': 0,\n",
       "  'SubhaloHalfmassRad': 4.7852955,\n",
       "  'SubhaloHalfmassRadType': array([2.31012   , 5.3919897 , 0.        , 0.        , 0.9928251 ,\n",
       "         0.17551477], dtype=float32),\n",
       "  'SubhaloIDMostbound': 216173039833166529,\n",
       "  'SubhaloLen': 78835,\n",
       "  'SubhaloLenType': array([10323, 14537,     0,     0, 53972,     3], dtype=int32),\n",
       "  'SubhaloMass': 12.007053,\n",
       "  'SubhaloMassType': array([1.1576806e+00, 9.8091803e+00, 0.0000000e+00, 0.0000000e+00,\n",
       "         1.0371922e+00, 3.0000000e-03], dtype=float32),\n",
       "  'SubhaloOffsetType': array([683545, 831544,      0,      0, 917637,     46]),\n",
       "  'SubhaloParentRank': 0,\n",
       "  'SubhaloPos': array([139303.77, 160621.22, 147653.44], dtype=float32),\n",
       "  'SubhaloRankInGr': 3,\n",
       "  'SubhaloSpin': array([59.695652 ,  3.9784896, -4.1124945], dtype=float32),\n",
       "  'SubhaloVel': array([ 490.3258 , -557.114  , -196.52382], dtype=float32),\n",
       "  'SubhaloVelDisp': 250.43628,\n",
       "  'SubhaloVmax': 252.33792,\n",
       "  'SubhaloVmaxRad': 1.6244696}}"
      ]
     },
     "execution_count": 21,
     "metadata": {},
     "output_type": "execute_result"
    }
   ],
   "source": [
    "ast.querySubhalos(bhid, 3.0, 3.0)"
   ]
  },
  {
   "cell_type": "code",
   "execution_count": null,
   "metadata": {},
   "outputs": [],
   "source": []
  }
 ],
 "metadata": {
  "kernelspec": {
   "display_name": "Python 3",
   "language": "python",
   "name": "python3"
  },
  "language_info": {
   "codemirror_mode": {
    "name": "ipython",
    "version": 3
   },
   "file_extension": ".py",
   "mimetype": "text/x-python",
   "name": "python",
   "nbconvert_exporter": "python",
   "pygments_lexer": "ipython3",
   "version": "3.8.3"
  }
 },
 "nbformat": 4,
 "nbformat_minor": 4
}
